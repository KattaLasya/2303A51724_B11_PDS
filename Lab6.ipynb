{
  "nbformat": 4,
  "nbformat_minor": 0,
  "metadata": {
    "colab": {
      "provenance": [],
      "authorship_tag": "ABX9TyPSseHxHWbUizCvDqiaEm0d",
      "include_colab_link": true
    },
    "kernelspec": {
      "name": "python3",
      "display_name": "Python 3"
    },
    "language_info": {
      "name": "python"
    }
  },
  "cells": [
    {
      "cell_type": "markdown",
      "metadata": {
        "id": "view-in-github",
        "colab_type": "text"
      },
      "source": [
        "<a href=\"https://colab.research.google.com/github/KattaLasya/2303A51724_B11_PDS/blob/main/Lab6.ipynb\" target=\"_parent\"><img src=\"https://colab.research.google.com/assets/colab-badge.svg\" alt=\"Open In Colab\"/></a>"
      ]
    },
    {
      "cell_type": "markdown",
      "source": [
        "QUESTION 3"
      ],
      "metadata": {
        "id": "NAMkoVO07WgX"
      }
    },
    {
      "cell_type": "code",
      "execution_count": 1,
      "metadata": {
        "colab": {
          "base_uri": "https://localhost:8080/"
        },
        "id": "JXCIwqJy7VNL",
        "outputId": "832d969b-606f-488f-b3c3-fe7cf8c22ecd"
      },
      "outputs": [
        {
          "output_type": "stream",
          "name": "stdout",
          "text": [
            "Original Dataset:\n",
            "    TransactionID Customer  Amount        Date\n",
            "0            101    Alice     250  2023-01-01\n",
            "1            102      Bob     150  2023-01-02\n",
            "2            103  Charlie     300  2023-01-03\n",
            "3            104    David     400  2023-01-04\n",
            "4            104    David     400  2023-01-04\n",
            "5            105      Eve     500  2023-01-05\n",
            "6            106    Frank     600  2023-01-06\n",
            "7            106    Frank     600  2023-01-06\n",
            "\n",
            "Number of duplicate rows: 2\n",
            "\n",
            "Cleaned Dataset:\n",
            "    TransactionID Customer  Amount        Date\n",
            "0            101    Alice     250  2023-01-01\n",
            "1            102      Bob     150  2023-01-02\n",
            "2            103  Charlie     300  2023-01-03\n",
            "3            104    David     400  2023-01-04\n",
            "5            105      Eve     500  2023-01-05\n",
            "6            106    Frank     600  2023-01-06\n",
            "\n",
            "Number of duplicate rows after cleaning: 0\n"
          ]
        }
      ],
      "source": [
        "import pandas as pd\n",
        "\n",
        "data = {\n",
        "    'TransactionID': [101, 102, 103, 104, 104, 105, 106, 106],\n",
        "    'Customer': ['Alice', 'Bob', 'Charlie', 'David', 'David', 'Eve', 'Frank', 'Frank'],\n",
        "    'Amount': [250, 150, 300, 400, 400, 500, 600, 600],\n",
        "    'Date': ['2023-01-01', '2023-01-02', '2023-01-03', '2023-01-04',\n",
        "             '2023-01-04', '2023-01-05', '2023-01-06', '2023-01-06']\n",
        "}\n",
        "\n",
        "df = pd.DataFrame(data)\n",
        "print(\"Original Dataset:\\n\", df)\n",
        "print(\"\\nNumber of duplicate rows:\", df.duplicated().sum())\n",
        "\n",
        "df_cleaned = df.drop_duplicates()\n",
        "\n",
        "print(\"\\nCleaned Dataset:\\n\", df_cleaned)\n",
        "print(\"\\nNumber of duplicate rows after cleaning:\", df_cleaned.duplicated().sum())\n"
      ]
    },
    {
      "cell_type": "markdown",
      "source": [
        "QUESTION 4"
      ],
      "metadata": {
        "id": "cWnOCz177dV9"
      }
    },
    {
      "cell_type": "code",
      "source": [
        "import pandas as pd\n",
        "\n",
        "data = {\n",
        "    'EmployeeID': [1, 2, 3, 4],\n",
        "    'Name': ['Alice', 'Bob', 'Charlie', 'David'],\n",
        "    'Salary': ['50000', '62000', '58000', '71000'],\n",
        "    'Joining_Date': ['2020-05-21', '2019-08-15', '2021-01-10', '2018-11-30']\n",
        "}\n",
        "\n",
        "df = pd.DataFrame(data)\n",
        "\n",
        "print(\"Original Data Types:\\n\", df.dtypes)\n",
        "\n",
        "df['Salary'] = pd.to_numeric(df['Salary'])\n",
        "df['Joining_Date'] = pd.to_datetime(df['Joining_Date'])\n",
        "\n",
        "print(\"\\nCorrected Data Types:\\n\", df.dtypes)\n",
        "print(\"\\nConverted Dataset:\\n\", df)"
      ],
      "metadata": {
        "colab": {
          "base_uri": "https://localhost:8080/"
        },
        "id": "TdxK5enZ7k9S",
        "outputId": "021ae51b-60b4-48cb-f1d1-c650d65f888e"
      },
      "execution_count": 2,
      "outputs": [
        {
          "output_type": "stream",
          "name": "stdout",
          "text": [
            "Original Data Types:\n",
            " EmployeeID       int64\n",
            "Name            object\n",
            "Salary          object\n",
            "Joining_Date    object\n",
            "dtype: object\n",
            "\n",
            "Corrected Data Types:\n",
            " EmployeeID               int64\n",
            "Name                    object\n",
            "Salary                   int64\n",
            "Joining_Date    datetime64[ns]\n",
            "dtype: object\n",
            "\n",
            "Converted Dataset:\n",
            "    EmployeeID     Name  Salary Joining_Date\n",
            "0           1    Alice   50000   2020-05-21\n",
            "1           2      Bob   62000   2019-08-15\n",
            "2           3  Charlie   58000   2021-01-10\n",
            "3           4    David   71000   2018-11-30\n"
          ]
        }
      ]
    }
  ]
}