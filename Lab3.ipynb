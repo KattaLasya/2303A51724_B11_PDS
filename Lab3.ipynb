{
  "nbformat": 4,
  "nbformat_minor": 0,
  "metadata": {
    "colab": {
      "provenance": [],
      "authorship_tag": "ABX9TyOskKK6MghoUkyOXxsDOPMh",
      "include_colab_link": true
    },
    "kernelspec": {
      "name": "python3",
      "display_name": "Python 3"
    },
    "language_info": {
      "name": "python"
    }
  },
  "cells": [
    {
      "cell_type": "markdown",
      "metadata": {
        "id": "view-in-github",
        "colab_type": "text"
      },
      "source": [
        "<a href=\"https://colab.research.google.com/github/KattaLasya/2303A51724_B11_PDS/blob/main/Lab3.ipynb\" target=\"_parent\"><img src=\"https://colab.research.google.com/assets/colab-badge.svg\" alt=\"Open In Colab\"/></a>"
      ]
    },
    {
      "cell_type": "markdown",
      "source": [
        "QUESTION 1"
      ],
      "metadata": {
        "id": "fVaoOPWD9A4i"
      }
    },
    {
      "cell_type": "code",
      "execution_count": 1,
      "metadata": {
        "colab": {
          "base_uri": "https://localhost:8080/"
        },
        "id": "-sDsSCtq8-VA",
        "outputId": "bade2b46-a2d5-409c-e80e-620b71c0f9f5"
      },
      "outputs": [
        {
          "output_type": "stream",
          "name": "stdout",
          "text": [
            "2D Array 1:\n",
            " [[1 2 3]\n",
            " [4 5 6]\n",
            " [7 8 9]]\n",
            "2D Array 2:\n",
            " [[10 20 30]\n",
            " [40 50 60]\n",
            " [70 80 90]]\n",
            "Addition of 2 matrices:\n",
            " [[11 22 33]\n",
            " [44 55 66]\n",
            " [77 88 99]]\n",
            "Subtraction of 2 matrices:\n",
            " [[ 9 18 27]\n",
            " [36 45 54]\n",
            " [63 72 81]]\n",
            "Addition using np.add function:\n",
            " [[11 22 33]\n",
            " [44 55 66]\n",
            " [77 88 99]]\n",
            "Subtraction using np.subtract function:\n",
            " [[ -9 -18 -27]\n",
            " [-36 -45 -54]\n",
            " [-63 -72 -81]]\n",
            "Manual additon for position [0,0]: 11\n",
            "Manual subtraction for position [0,0]: -9\n"
          ]
        }
      ],
      "source": [
        "import numpy as np\n",
        "\n",
        "arr1=np.array([[1,2,3],[4,5,6],[7,8,9]])\n",
        "arr2=np.array([[10,20,30],[40,50,60],[70,80,90]])\n",
        "\n",
        "print(\"2D Array 1:\\n\",arr1)\n",
        "print(\"2D Array 2:\\n\",arr2)\n",
        "\n",
        "print(\"Addition of 2 matrices:\\n\",arr1+arr2)\n",
        "print(\"Subtraction of 2 matrices:\\n\",arr2-arr1)\n",
        "\n",
        "addition=np.add(arr1,arr2)\n",
        "subtraction=np.subtract(arr1,arr2)\n",
        "\n",
        "print(\"Addition using np.add function:\\n\",addition)\n",
        "print(\"Subtraction using np.subtract function:\\n\",subtraction)\n",
        "\n",
        "add=arr1[0,0]+arr2[0,0]\n",
        "sub=arr1[0,0]-arr2[0,0]\n",
        "\n",
        "print(\"Manual additon for position [0,0]:\",add)\n",
        "print(\"Manual subtraction for position [0,0]:\",sub)"
      ]
    },
    {
      "cell_type": "markdown",
      "source": [
        "QUESTION 2"
      ],
      "metadata": {
        "id": "GvXzA2Y69LQ2"
      }
    },
    {
      "cell_type": "code",
      "source": [
        "import numpy as np\n",
        "import matplotlib.pyplot as plt\n",
        "\n",
        "arr1=np.array([[[1,2],[3,4],[5,6]]])\n",
        "arr2=np.array([[10,20,30],[40,50,60]])\n",
        "\n",
        "print(\"Array arr1:\", arr1)\n",
        "print(\"Array arr2:\", arr2)\n",
        "print(\"Dot product:\",arr1.dot(arr2))\n",
        "print(\"Dot product:\",arr1@arr2)\n",
        "\n",
        "image = np.array([[100, 150],[200, 250]])\n",
        "filter_matrix = np.array([[0.5, 0.2],[0.3, 0.8]])\n",
        "\n",
        "print(\"\\nOriginal 'image' matrix:\")\n",
        "print(image)\n",
        "print(\"\\nFilter matrix:\")\n",
        "print(filter_matrix)\n",
        "\n",
        "filtered_image = np.dot(image, filter_matrix)\n",
        "print(\"\\nFiltered image matrix (after transformation):\")\n",
        "print(filtered_image)\n",
        "fig, axes = plt.subplots(1, 2, figsize=(6, 3))\n",
        "axes[0].imshow(image, cmap='gray')\n",
        "axes[0].set_title(\"Original Image\")\n",
        "axes[0].axis(\"off\")\n",
        "axes[1].imshow(filtered_image, cmap='gray')\n",
        "axes[1].set_title(\"Filtered Image\")\n",
        "axes[1].axis(\"off\")\n",
        "plt.tight_layout()\n",
        "plt.show()"
      ],
      "metadata": {
        "colab": {
          "base_uri": "https://localhost:8080/",
          "height": 715
        },
        "id": "f-Clg74F9Pf_",
        "outputId": "0849f60e-4738-4fde-f769-c42a63da1924"
      },
      "execution_count": 2,
      "outputs": [
        {
          "output_type": "stream",
          "name": "stdout",
          "text": [
            "Array arr1: [[[1 2]\n",
            "  [3 4]\n",
            "  [5 6]]]\n",
            "Array arr2: [[10 20 30]\n",
            " [40 50 60]]\n",
            "Dot product: [[[ 90 120 150]\n",
            "  [190 260 330]\n",
            "  [290 400 510]]]\n",
            "Dot product: [[[ 90 120 150]\n",
            "  [190 260 330]\n",
            "  [290 400 510]]]\n",
            "\n",
            "Original 'image' matrix:\n",
            "[[100 150]\n",
            " [200 250]]\n",
            "\n",
            "Filter matrix:\n",
            "[[0.5 0.2]\n",
            " [0.3 0.8]]\n",
            "\n",
            "Filtered image matrix (after transformation):\n",
            "[[ 95. 140.]\n",
            " [175. 240.]]\n"
          ]
        },
        {
          "output_type": "display_data",
          "data": {
            "text/plain": [
              "<Figure size 600x300 with 2 Axes>"
            ],
            "image/png": "[encoded data removed]"
          },
          "metadata": {}
        }
      ]
    }
  ]
}