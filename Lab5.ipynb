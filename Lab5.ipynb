{
  "nbformat": 4,
  "nbformat_minor": 0,
  "metadata": {
    "colab": {
      "provenance": [],
      "authorship_tag": "ABX9TyMv9RPJ054bRszuKd8bZ3c7",
      "include_colab_link": true
    },
    "kernelspec": {
      "name": "python3",
      "display_name": "Python 3"
    },
    "language_info": {
      "name": "python"
    }
  },
  "cells": [
    {
      "cell_type": "markdown",
      "metadata": {
        "id": "view-in-github",
        "colab_type": "text"
      },
      "source": [
        "<a href=\"https://colab.research.google.com/github/KattaLasya/2303A51724_B11_PDS/blob/main/Lab5.ipynb\" target=\"_parent\"><img src=\"https://colab.research.google.com/assets/colab-badge.svg\" alt=\"Open In Colab\"/></a>"
      ]
    },
    {
      "cell_type": "markdown",
      "source": [
        "QUESTION 3"
      ],
      "metadata": {
        "id": "5kOZXykW17IB"
      }
    },
    {
      "cell_type": "code",
      "execution_count": 1,
      "metadata": {
        "colab": {
          "base_uri": "https://localhost:8080/",
          "height": 0
        },
        "id": "Br2Jn7qZ1YNH",
        "outputId": "b244701f-7e1a-4119-bb91-786e36a6f617"
      },
      "outputs": [
        {
          "output_type": "stream",
          "name": "stdout",
          "text": [
            "Products Dataset:\n",
            "    product_id product_name     category  price\n",
            "0         101       Laptop  Electronics   1000\n",
            "1         102        Mouse  Accessories     25\n",
            "2         103     Keyboard  Accessories     45\n",
            "3         104      Monitor  Electronics    200\n",
            "4         105        Chair    Furniture    150\n",
            "\n",
            "Sales Dataset:\n",
            "    sale_id  product_id  quantity\n",
            "0        1         101         2\n",
            "1        2         102         5\n",
            "2        3         103         3\n",
            "3        4         101         1\n",
            "4        5         104         4\n",
            "5        6         106         2\n",
            "6        7         105         6\n",
            "\n",
            "Merged Dataset (Inner Join):\n",
            "    sale_id  product_id  quantity product_name     category  price  revenue\n",
            "0        1         101         2       Laptop  Electronics   1000     2000\n",
            "1        2         102         5        Mouse  Accessories     25      125\n",
            "2        3         103         3     Keyboard  Accessories     45      135\n",
            "3        4         101         1       Laptop  Electronics   1000     1000\n",
            "4        5         104         4      Monitor  Electronics    200      800\n",
            "5        7         105         6        Chair    Furniture    150      900\n",
            "\n",
            "Merged Dataset (Outer Join):\n",
            "    sale_id  product_id  quantity product_name     category   price\n",
            "0        1         101         2       Laptop  Electronics  1000.0\n",
            "1        4         101         1       Laptop  Electronics  1000.0\n",
            "2        2         102         5        Mouse  Accessories    25.0\n",
            "3        3         103         3     Keyboard  Accessories    45.0\n",
            "4        5         104         4      Monitor  Electronics   200.0\n",
            "5        7         105         6        Chair    Furniture   150.0\n",
            "6        6         106         2          NaN          NaN     NaN\n",
            "\n",
            "Total Revenue: $ 4960\n",
            "Average Product Price: $ 284.0\n",
            "\n",
            "Product-wise Sales:\n",
            "   product_name  total_quantity_sold  total_revenue\n",
            "0        Chair                    6            900\n",
            "1     Keyboard                    3            135\n",
            "2       Laptop                    3           3000\n",
            "3      Monitor                    4            800\n",
            "4        Mouse                    5            125\n",
            "\n",
            "Category-wise Revenue:\n",
            "       category  total_revenue\n",
            "0  Accessories            260\n",
            "1  Electronics           3800\n",
            "2    Furniture            900\n",
            "\n",
            "Best-Selling Category: Electronics with revenue $ 3800\n"
          ]
        }
      ],
      "source": [
        "import pandas as pd\n",
        "\n",
        "products_data = {\n",
        "    'product_id': [101, 102, 103, 104, 105],\n",
        "    'product_name': ['Laptop', 'Mouse', 'Keyboard', 'Monitor', 'Chair'],\n",
        "    'category': ['Electronics', 'Accessories', 'Accessories', 'Electronics', 'Furniture'],\n",
        "    'price': [1000, 25, 45, 200, 150]\n",
        "}\n",
        "products_df = pd.DataFrame(products_data)\n",
        "\n",
        "sales_data = {\n",
        "    'sale_id': [1, 2, 3, 4, 5, 6, 7],\n",
        "    'product_id': [101, 102, 103, 101, 104, 106, 105],\n",
        "    'quantity': [2, 5, 3, 1, 4, 2, 6]\n",
        "}\n",
        "sales_df = pd.DataFrame(sales_data)\n",
        "\n",
        "merged_inner = pd.merge(sales_df, products_df, on='product_id', how='inner')\n",
        "merged_outer = pd.merge(sales_df, products_df, on='product_id', how='outer')\n",
        "\n",
        "merged_inner['revenue'] = merged_inner['quantity'] * merged_inner['price']\n",
        "\n",
        "total_revenue = merged_inner['revenue'].sum()\n",
        "average_price = products_df['price'].mean()\n",
        "\n",
        "product_sales = merged_inner.groupby('product_name').agg(\n",
        "    total_quantity_sold=pd.NamedAgg(column='quantity', aggfunc='sum'),\n",
        "    total_revenue=pd.NamedAgg(column='revenue', aggfunc='sum')\n",
        ").reset_index()\n",
        "\n",
        "category_sales = merged_inner.groupby('category').agg(\n",
        "    total_revenue=pd.NamedAgg(column='revenue', aggfunc='sum')\n",
        ").reset_index()\n",
        "\n",
        "best_category = category_sales.sort_values(by='total_revenue', ascending=False).iloc[0]\n",
        "\n",
        "print(\"Products Dataset:\\n\", products_df)\n",
        "print(\"\\nSales Dataset:\\n\", sales_df)\n",
        "print(\"\\nMerged Dataset (Inner Join):\\n\", merged_inner)\n",
        "print(\"\\nMerged Dataset (Outer Join):\\n\", merged_outer)\n",
        "print(\"\\nTotal Revenue: $\", total_revenue)\n",
        "print(\"Average Product Price: $\", round(average_price, 2))\n",
        "print(\"\\nProduct-wise Sales:\\n\", product_sales)\n",
        "print(\"\\nCategory-wise Revenue:\\n\", category_sales)\n",
        "print(\"\\nBest-Selling Category:\", best_category['category'], \"with revenue $\", best_category['total_revenue'])"
      ]
    },
    {
      "cell_type": "markdown",
      "source": [
        "QUESTION 4"
      ],
      "metadata": {
        "id": "SdCTYfko1_49"
      }
    },
    {
      "cell_type": "code",
      "source": [
        "import pandas as pd\n",
        "\n",
        "teachers_data = {\n",
        "    'teacher_id': [1, 2, 3, 4, 5],\n",
        "    'teacher_name': ['Alice', 'Bob', 'Charlie', 'David', 'Eva'],\n",
        "    'department': ['Math', 'Science', 'Math', 'History', 'Science']\n",
        "}\n",
        "teachers_df = pd.DataFrame(teachers_data)\n",
        "\n",
        "courses_data = {\n",
        "    'course_id': [101, 102, 103, 104, 105, 106, 107],\n",
        "    'course_name': ['Algebra', 'Biology', 'Geometry', 'World History', 'Chemistry', 'Physics', 'Statistics'],\n",
        "    'teacher_id': [1, 2, 1, 4, 2, 2, 3],\n",
        "    'hours_per_week': [4, 3, 5, 3, 4, 2, 6]\n",
        "}\n",
        "courses_df = pd.DataFrame(courses_data)\n",
        "\n",
        "merged_inner = pd.merge(courses_df, teachers_df, on='teacher_id', how='inner')\n",
        "merged_left = pd.merge(teachers_df, courses_df, on='teacher_id', how='left')\n",
        "\n",
        "courses_per_teacher = merged_inner.groupby('teacher_id').size().mean()\n",
        "\n",
        "department_workload = merged_inner.groupby('department').agg(\n",
        "    total_hours=pd.NamedAgg(column='hours_per_week', aggfunc='sum')\n",
        ").reset_index()\n",
        "\n",
        "print(\"Teachers Dataset:\\n\", teachers_df)\n",
        "print(\"\\nCourses Dataset:\\n\", courses_df)\n",
        "print(\"\\nMerged Dataset (Inner Join):\\n\", merged_inner)\n",
        "print(\"\\nMerged Dataset (Left Join):\\n\", merged_left)\n",
        "print(\"\\nAverage Courses per Teacher:\", round(courses_per_teacher, 2))\n",
        "print(\"\\nDepartment-wise Workload:\\n\", department_workload)"
      ],
      "metadata": {
        "colab": {
          "base_uri": "https://localhost:8080/",
          "height": 0
        },
        "id": "x0nKf5SH10Gs",
        "outputId": "3a0bfeab-a538-4378-b5b7-bca9b4475035"
      },
      "execution_count": 2,
      "outputs": [
        {
          "output_type": "stream",
          "name": "stdout",
          "text": [
            "Teachers Dataset:\n",
            "    teacher_id teacher_name department\n",
            "0           1        Alice       Math\n",
            "1           2          Bob    Science\n",
            "2           3      Charlie       Math\n",
            "3           4        David    History\n",
            "4           5          Eva    Science\n",
            "\n",
            "Courses Dataset:\n",
            "    course_id    course_name  teacher_id  hours_per_week\n",
            "0        101        Algebra           1               4\n",
            "1        102        Biology           2               3\n",
            "2        103       Geometry           1               5\n",
            "3        104  World History           4               3\n",
            "4        105      Chemistry           2               4\n",
            "5        106        Physics           2               2\n",
            "6        107     Statistics           3               6\n",
            "\n",
            "Merged Dataset (Inner Join):\n",
            "    course_id    course_name  teacher_id  hours_per_week teacher_name  \\\n",
            "0        101        Algebra           1               4        Alice   \n",
            "1        102        Biology           2               3          Bob   \n",
            "2        103       Geometry           1               5        Alice   \n",
            "3        104  World History           4               3        David   \n",
            "4        105      Chemistry           2               4          Bob   \n",
            "5        106        Physics           2               2          Bob   \n",
            "6        107     Statistics           3               6      Charlie   \n",
            "\n",
            "  department  \n",
            "0       Math  \n",
            "1    Science  \n",
            "2       Math  \n",
            "3    History  \n",
            "4    Science  \n",
            "5    Science  \n",
            "6       Math  \n",
            "\n",
            "Merged Dataset (Left Join):\n",
            "    teacher_id teacher_name department  course_id    course_name  \\\n",
            "0           1        Alice       Math      101.0        Algebra   \n",
            "1           1        Alice       Math      103.0       Geometry   \n",
            "2           2          Bob    Science      102.0        Biology   \n",
            "3           2          Bob    Science      105.0      Chemistry   \n",
            "4           2          Bob    Science      106.0        Physics   \n",
            "5           3      Charlie       Math      107.0     Statistics   \n",
            "6           4        David    History      104.0  World History   \n",
            "7           5          Eva    Science        NaN            NaN   \n",
            "\n",
            "   hours_per_week  \n",
            "0             4.0  \n",
            "1             5.0  \n",
            "2             3.0  \n",
            "3             4.0  \n",
            "4             2.0  \n",
            "5             6.0  \n",
            "6             3.0  \n",
            "7             NaN  \n",
            "\n",
            "Average Courses per Teacher: 1.75\n",
            "\n",
            "Department-wise Workload:\n",
            "   department  total_hours\n",
            "0    History            3\n",
            "1       Math           15\n",
            "2    Science            9\n"
          ]
        }
      ]
    }
  ]
}