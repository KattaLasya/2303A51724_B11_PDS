{
  "nbformat": 4,
  "nbformat_minor": 0,
  "metadata": {
    "colab": {
      "provenance": [],
      "authorship_tag": "ABX9TyNZNsM3ELy5lDC5AKjXG3+G",
      "include_colab_link": true
    },
    "kernelspec": {
      "name": "python3",
      "display_name": "Python 3"
    },
    "language_info": {
      "name": "python"
    }
  },
  "cells": [
    {
      "cell_type": "markdown",
      "metadata": {
        "id": "view-in-github",
        "colab_type": "text"
      },
      "source": [
        "<a href=\"https://colab.research.google.com/github/KattaLasya/2303A51724_B11_PDS/blob/main/Lab4.ipynb\" target=\"_parent\"><img src=\"https://colab.research.google.com/assets/colab-badge.svg\" alt=\"Open In Colab\"/></a>"
      ]
    },
    {
      "cell_type": "markdown",
      "source": [
        "QUESTION 1"
      ],
      "metadata": {
        "id": "IYrolehhKoC3"
      }
    },
    {
      "cell_type": "code",
      "execution_count": 4,
      "metadata": {
        "colab": {
          "base_uri": "https://localhost:8080/",
          "height": 0
        },
        "id": "Ii_4w8UcKlCI",
        "outputId": "76c4b1f3-dd68-4a9a-cc92-2872d824c213"
      },
      "outputs": [
        {
          "output_type": "stream",
          "name": "stdout",
          "text": [
            "Sample sales_data.csv file has been created.\n"
          ]
        }
      ],
      "source": [
        " import pandas as pd\n",
        " data = {\n",
        "    'Invoice_No': [1001, 1002, 1003, 1004, 1005],\n",
        "    'Customer_Name': ['Raju', 'Ramu', 'Ravi', 'Teja', 'Ramesh'],\n",
        "    'Product': ['Widget', 'Gadget', None, 'Widget', 'Widget'],\n",
        "    'Quantity': [5, None, 10, 20, 2],\n",
        "    'Price': [200, 150, 250, None, 300],\n",
        "    'Total': [1000, None, None, 4000, 600]\n",
        " }\n",
        " df = pd.DataFrame(data)\n",
        " df.to_csv('sales_data.csv', index=False)\n",
        "print(\"Sample sales_data.csv file has been created.\")"
      ]
    },
    {
      "cell_type": "code",
      "source": [
        "df = pd.read_csv('sales_data.csv')\n",
        "df_clean = df.dropna(subset=['Product', 'Quantity']).copy()\n",
        "mean_price = df_clean['Price'].mean()\n",
        "df_clean.loc[:, 'Price'] = df_clean['Price'].fillna(mean_price)\n",
        "df_clean.loc[:, 'Total'] = df_clean.apply(\n",
        "   lambda row: row['Quantity'] * row['Price'] if pd.isnull(row['Total']) else row['Total'],\n",
        "   axis=1\n",
        ")\n",
        "print(\"Cleaned sales data with missing Price filled and Total calculated:\")\n",
        "print(df_clean)"
      ],
      "metadata": {
        "colab": {
          "base_uri": "https://localhost:8080/",
          "height": 0
        },
        "id": "BiDA3fnbLLCX",
        "outputId": "02f19e1e-55b6-4c41-f85d-d55a44cfa997"
      },
      "execution_count": 6,
      "outputs": [
        {
          "output_type": "stream",
          "name": "stdout",
          "text": [
            "Cleaned sales data with missing Price filled and Total calculated:\n",
            "   Invoice_No Customer_Name Product  Quantity  Price   Total\n",
            "0        1001          Raju  Widget       5.0  200.0  1000.0\n",
            "3        1004          Teja  Widget      20.0  250.0  4000.0\n",
            "4        1005        Ramesh  Widget       2.0  300.0   600.0\n"
          ]
        }
      ]
    },
    {
      "cell_type": "code",
      "source": [
        " large_transactions = df_clean[df_clean['Total'] > 1000]\n",
        " print(\"\\nRecords with Total > 1000:\")\n",
        " print(large_transactions)"
      ],
      "metadata": {
        "colab": {
          "base_uri": "https://localhost:8080/",
          "height": 0
        },
        "id": "9iTXfI-sLT1X",
        "outputId": "96d1208c-d0ab-4e8b-a5d2-c361d8ea8b1b"
      },
      "execution_count": 7,
      "outputs": [
        {
          "output_type": "stream",
          "name": "stdout",
          "text": [
            "\n",
            "Records with Total > 1000:\n",
            "   Invoice_No Customer_Name Product  Quantity  Price   Total\n",
            "3        1004          Teja  Widget      20.0  250.0  4000.0\n"
          ]
        }
      ]
    },
    {
      "cell_type": "markdown",
      "source": [
        "QUESTION 2"
      ],
      "metadata": {
        "id": "NH9VgfrvLdUZ"
      }
    },
    {
      "cell_type": "code",
      "source": [
        "data = {\n",
        "    \"Applicant_ID\": [101, 102, 103, 104, 105, 106],\n",
        "    \"Name\": [\"Charmi\", \"Roshi\", \"Sathwika\", \"Lasya\", \"Vyshnavi\", \"Sowmya\"],\n",
        "    \"Degree\": [\"B.Tech\", \"MCA\", \"B.Sc\", \"M.Tech\", \"BCA\", \"B.Tech\"],\n",
        "    \"Experience_Years\": [3, 4, 5, 1, None, None],\n",
        "    \"Python_Score\": [85, 86, None, 92, 88, 95],\n",
        "    \"Status\": [\"Pending\", \"Pending\", \"Pending\", \"Pending\", \"Pending\", \"Pending\"]\n",
        " }\n",
        "df = pd.DataFrame(data)\n",
        "df.to_csv(\"applicants.csv\", index=False)\n",
        "print(\"applicants.csv file created successfully!\")\n",
        "print(df)"
      ],
      "metadata": {
        "colab": {
          "base_uri": "https://localhost:8080/",
          "height": 0
        },
        "id": "PWPqCm96LfCO",
        "outputId": "b567f7f6-f43d-4cac-838d-e627c894ef51"
      },
      "execution_count": 10,
      "outputs": [
        {
          "output_type": "stream",
          "name": "stdout",
          "text": [
            "applicants.csv file created successfully!\n",
            "   Applicant_ID      Name  Degree  Experience_Years  Python_Score   Status\n",
            "0           101    Charmi  B.Tech               3.0          85.0  Pending\n",
            "1           102     Roshi     MCA               4.0          86.0  Pending\n",
            "2           103  Sathwika    B.Sc               5.0           NaN  Pending\n",
            "3           104     Lasya  M.Tech               1.0          92.0  Pending\n",
            "4           105  Vyshnavi     BCA               NaN          88.0  Pending\n",
            "5           106    Sowmya  B.Tech               NaN          95.0  Pending\n"
          ]
        }
      ]
    },
    {
      "cell_type": "code",
      "source": [
        "df = pd.read_csv(\"applicants.csv\")\n",
        "df = df.dropna(subset=[\"Python_Score\"])\n",
        "df[\"Experience_Years\"] = df[\"Experience_Years\"].fillna(0)\n",
        "filtered_df = df[(df[\"Python_Score\"] > 80) & (df[\"Experience_Years\"] > 2)]\n",
        "filtered_df.to_csv(\"filtered_applicants.csv\", index=False)\n",
        "print(\"Filtered Applicants:\")\n",
        "print(filtered_df)"
      ],
      "metadata": {
        "colab": {
          "base_uri": "https://localhost:8080/",
          "height": 0
        },
        "id": "OAdoCJj1L7l6",
        "outputId": "4b6d991f-fba2-4430-fa55-d5815f7372d5"
      },
      "execution_count": 12,
      "outputs": [
        {
          "output_type": "stream",
          "name": "stdout",
          "text": [
            "Filtered Applicants:\n",
            "   Applicant_ID    Name  Degree  Experience_Years  Python_Score   Status\n",
            "0           101  Charmi  B.Tech               3.0          85.0  Pending\n",
            "1           102   Roshi     MCA               4.0          86.0  Pending\n"
          ]
        }
      ]
    }
  ]
}